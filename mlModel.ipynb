{
 "cells": [
  {
   "cell_type": "code",
   "execution_count": 6,
   "metadata": {},
   "outputs": [],
   "source": [
    "import pandas as pd\n",
    "from sklearn.model_selection import train_test_split"
   ]
  },
  {
   "cell_type": "code",
   "execution_count": 3,
   "metadata": {},
   "outputs": [],
   "source": [
    "data0 = pd.read_csv('testData.csv')\n",
    "data1 = pd.read_csv('testData1.csv')\n",
    "data2 = pd.read_csv('testData2.csv')\n",
    "data3 = pd.read_csv('testData3.csv')\n",
    "data4 = pd.read_csv('testData4.csv')\n",
    "data5 = pd.read_csv('testData5.csv')\n",
    "data6 = pd.read_csv('testData6.csv')\n",
    "data7 = pd.read_csv('testData7.csv')\n",
    "data8 = pd.read_csv('testData8.csv')\n",
    "data9 = pd.read_csv('testData9.csv')\n",
    "data10 = pd.read_csv('testData10.csv')\n",
    "data11 = pd.read_csv('testData11.csv')\n",
    "data12 = pd.read_csv('testData12.csv')\n",
    "data13 = pd.read_csv('testData13.csv')\n",
    "data14 = pd.read_csv('testData14.csv')\n",
    "\n",
    "merged_data = pd.concat([data0, data1, data2, data3, data4, data5,data6,data7,data8,data9,data10,data11,data12, data13, data14], ignore_index=True)\n",
    "merged_data.to_csv('modelData.csv', index=False)"
   ]
  },
  {
   "cell_type": "code",
   "execution_count": 5,
   "metadata": {},
   "outputs": [
    {
     "name": "stderr",
     "output_type": "stream",
     "text": [
      "C:\\Users\\taraa\\AppData\\Local\\Temp\\ipykernel_19172\\381258407.py:1: FutureWarning: errors='ignore' is deprecated and will raise in a future version. Use to_datetime without passing `errors` and catch exceptions explicitly instead\n",
      "  merged_data['last_update'] = pd.to_datetime(merged_data['last_update'], unit='s', errors='ignore')\n"
     ]
    }
   ],
   "source": [
    "merged_data['last_update'] = pd.to_datetime(merged_data['last_update'], unit='s', errors='ignore')\n"
   ]
  },
  {
   "cell_type": "code",
   "execution_count": 7,
   "metadata": {},
   "outputs": [],
   "source": [
    "train_data, test_data = train_test_split(merged_data, test_size=0.3, random_state=42)"
   ]
  }
 ],
 "metadata": {
  "kernelspec": {
   "display_name": "comp30830",
   "language": "python",
   "name": "python3"
  },
  "language_info": {
   "codemirror_mode": {
    "name": "ipython",
    "version": 3
   },
   "file_extension": ".py",
   "mimetype": "text/x-python",
   "name": "python",
   "nbconvert_exporter": "python",
   "pygments_lexer": "ipython3",
   "version": "3.11.8"
  }
 },
 "nbformat": 4,
 "nbformat_minor": 2
}
